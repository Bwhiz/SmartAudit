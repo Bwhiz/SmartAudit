{
 "cells": [
  {
   "cell_type": "code",
   "execution_count": 1,
   "metadata": {},
   "outputs": [
    {
     "name": "stderr",
     "output_type": "stream",
     "text": [
      "/home/vscode/.local/lib/python3.8/site-packages/tqdm/auto.py:21: TqdmWarning: IProgress not found. Please update jupyter and ipywidgets. See https://ipywidgets.readthedocs.io/en/stable/user_install.html\n",
      "  from .autonotebook import tqdm as notebook_tqdm\n"
     ]
    }
   ],
   "source": [
    "from PyPDF2 import PdfReader\n",
    "from dotenv import load_dotenv\n",
    "import os\n",
    "from openai import OpenAI\n",
    "from langchain.text_splitter import RecursiveCharacterTextSplitter\n",
    "from pymilvus import MilvusClient\n",
    "\n",
    "from tqdm.auto import tqdm\n",
    "import numpy as np\n"
   ]
  },
  {
   "cell_type": "code",
   "execution_count": 10,
   "metadata": {},
   "outputs": [],
   "source": [
    "from pymilvus import FieldSchema, CollectionSchema, DataType, Collection, connections, utility\n"
   ]
  },
  {
   "cell_type": "code",
   "execution_count": 2,
   "metadata": {},
   "outputs": [],
   "source": [
    "load_dotenv()\n",
    "API_KEY=os.getenv('OPEN_API_KEY')\n",
    "zilli_api_key=os.getenv('zilliAPI_KEY')\n"
   ]
  },
  {
   "cell_type": "code",
   "execution_count": 3,
   "metadata": {},
   "outputs": [],
   "source": [
    "def extract_text_with_pypdf(file_path):\n",
    "    reader = PdfReader(file_path)\n",
    "    text = \"\"\n",
    "    for page in reader.pages:\n",
    "        text += page.extract_text()\n",
    "    return text"
   ]
  },
  {
   "cell_type": "code",
   "execution_count": 4,
   "metadata": {},
   "outputs": [],
   "source": [
    "# pdf_file_path = \"../data/ifrs_doc.pdf\"\n",
    "pdf_file_path = \"../data/ifrs_800pgs.pdf\""
   ]
  },
  {
   "cell_type": "code",
   "execution_count": 5,
   "metadata": {},
   "outputs": [],
   "source": [
    "text = extract_text_with_pypdf(pdf_file_path)"
   ]
  },
  {
   "cell_type": "code",
   "execution_count": 6,
   "metadata": {},
   "outputs": [],
   "source": [
    "client = OpenAI(api_key=API_KEY)\n"
   ]
  },
  {
   "cell_type": "code",
   "execution_count": 7,
   "metadata": {},
   "outputs": [],
   "source": [
    "## chunking texts:\n",
    "\n",
    "chunk_size = 6000 #openai model limit is 8191\n",
    "chunk_overlap = 300\n",
    "\n",
    "text_splitter = RecursiveCharacterTextSplitter(\n",
    "                                                chunk_size=chunk_size,\n",
    "                                                chunk_overlap=chunk_overlap\n",
    "                                            )\n",
    "chunks = text_splitter.split_text(text)"
   ]
  },
  {
   "cell_type": "code",
   "execution_count": 8,
   "metadata": {},
   "outputs": [],
   "source": [
    "# embedding the chunks;\n",
    "def emb_text(text):\n",
    "    return (\n",
    "        client.embeddings.create(input=text, model=\"text-embedding-3-small\")\n",
    "        .data[0]\n",
    "        .embedding\n",
    "    )"
   ]
  },
  {
   "cell_type": "code",
   "execution_count": 9,
   "metadata": {},
   "outputs": [],
   "source": [
    "milvus_client = MilvusClient(uri=\"https://in03-cdcb64273091f72.serverless.gcp-us-west1.cloud.zilliz.com\",\n",
    "                             token=zilli_api_key)\n",
    "\n",
    "collection_name = \"demo_rag_collection\"\n"
   ]
  },
  {
   "cell_type": "code",
   "execution_count": 12,
   "metadata": {},
   "outputs": [],
   "source": [
    "if milvus_client.has_collection(collection_name):\n",
    "    milvus_client.drop_collection(collection_name)\n",
    "\n",
    "schema = MilvusClient.create_schema(\n",
    "    auto_id=False,\n",
    "    enable_dynamic_field=True,\n",
    ")\n",
    "\n",
    "\n",
    "schema.add_field(field_name='id', datatype=DataType.INT64, is_primary=True),\n",
    "schema.add_field(field_name='embedding', datatype=DataType.FLOAT_VECTOR, dim=1536),\n",
    "schema.add_field(field_name=\"text\", datatype=DataType.VARCHAR, max_length=8000)\n",
    "\n",
    "# creating index and loading on the spot :\n",
    "\n",
    "# index_params = client.prepare_index_params()\n",
    "\n",
    "# index_params.add_index(\n",
    "#     field_name=\"id\",\n",
    "#     index_type=\"STL_SORT\"\n",
    "# )\n",
    "\n",
    "# index_params.add_index(\n",
    "#     field_name=\"embedding\", \n",
    "#     index_type=\"IVF_FLAT\",\n",
    "#     metric_type=\"COSINE\",\n",
    "#     params={ \"nlist\": 128 }\n",
    "# )\n",
    "\n",
    "milvus_client.create_collection(\n",
    "    collection_name=collection_name, \n",
    "    schema=schema, \n",
    "    # index_params=index_params\n",
    "\n",
    ")\n",
    "\n"
   ]
  },
  {
   "cell_type": "code",
   "execution_count": 15,
   "metadata": {},
   "outputs": [],
   "source": [
    "index_params = MilvusClient.prepare_index_params()\n",
    "\n",
    "index_params.add_index(\n",
    "    field_name=\"embedding\",\n",
    "    metric_type=\"COSINE\",\n",
    "    index_type=\"IVF_FLAT\",\n",
    "    index_name=\"vector_index\",\n",
    "    params={ \"nlist\": 128 }\n",
    ")\n",
    "\n",
    "milvus_client.create_index(\n",
    "    collection_name=collection_name,\n",
    "    index_params=index_params,\n",
    "    sync=False # Whether to wait for index creation to complete before returning. Defaults to True.\n",
    ")\n"
   ]
  },
  {
   "cell_type": "code",
   "execution_count": 18,
   "metadata": {},
   "outputs": [
    {
     "name": "stderr",
     "output_type": "stream",
     "text": [
      "100%|██████████| 350/350 [02:17<00:00,  2.55it/s]\n"
     ]
    }
   ],
   "source": [
    "data = []\n",
    "for i, chunk in enumerate(tqdm(chunks, total=len(chunks))):\n",
    "    data.append({\"id\": i, \"embedding\":emb_text(chunk), \"text\":chunk})\n"
   ]
  },
  {
   "cell_type": "code",
   "execution_count": 19,
   "metadata": {},
   "outputs": [
    {
     "data": {
      "text/plain": [
       "{'insert_count': 350, 'ids': [0, 1, 2, 3, 4, 5, 6, 7, 8, 9, 10, 11, 12, 13, 14, 15, 16, 17, 18, 19, 20, 21, 22, 23, 24, 25, 26, 27, 28, 29, 30, 31, 32, 33, 34, 35, 36, 37, 38, 39, 40, 41, 42, 43, 44, 45, 46, 47, 48, 49, 50, 51, 52, 53, 54, 55, 56, 57, 58, 59, 60, 61, 62, 63, 64, 65, 66, 67, 68, 69, 70, 71, 72, 73, 74, 75, 76, 77, 78, 79, 80, 81, 82, 83, 84, 85, 86, 87, 88, 89, 90, 91, 92, 93, 94, 95, 96, 97, 98, 99, 100, 101, 102, 103, 104, 105, 106, 107, 108, 109, 110, 111, 112, 113, 114, 115, 116, 117, 118, 119, 120, 121, 122, 123, 124, 125, 126, 127, 128, 129, 130, 131, 132, 133, 134, 135, 136, 137, 138, 139, 140, 141, 142, 143, 144, 145, 146, 147, 148, 149, 150, 151, 152, 153, 154, 155, 156, 157, 158, 159, 160, 161, 162, 163, 164, 165, 166, 167, 168, 169, 170, 171, 172, 173, 174, 175, 176, 177, 178, 179, 180, 181, 182, 183, 184, 185, 186, 187, 188, 189, 190, 191, 192, 193, 194, 195, 196, 197, 198, 199, 200, 201, 202, 203, 204, 205, 206, 207, 208, 209, 210, 211, 212, 213, 214, 215, 216, 217, 218, 219, 220, 221, 222, 223, 224, 225, 226, 227, 228, 229, 230, 231, 232, 233, 234, 235, 236, 237, 238, 239, 240, 241, 242, 243, 244, 245, 246, 247, 248, 249, 250, 251, 252, 253, 254, 255, 256, 257, 258, 259, 260, 261, 262, 263, 264, 265, 266, 267, 268, 269, 270, 271, 272, 273, 274, 275, 276, 277, 278, 279, 280, 281, 282, 283, 284, 285, 286, 287, 288, 289, 290, 291, 292, 293, 294, 295, 296, 297, 298, 299, 300, 301, 302, 303, 304, 305, 306, 307, 308, 309, 310, 311, 312, 313, 314, 315, 316, 317, 318, 319, 320, 321, 322, 323, 324, 325, 326, 327, 328, 329, 330, 331, 332, 333, 334, 335, 336, 337, 338, 339, 340, 341, 342, 343, 344, 345, 346, 347, 348, 349], 'cost': 1036}"
      ]
     },
     "execution_count": 19,
     "metadata": {},
     "output_type": "execute_result"
    }
   ],
   "source": [
    "milvus_client.insert(collection_name=collection_name, data=data)"
   ]
  },
  {
   "cell_type": "code",
   "execution_count": 24,
   "metadata": {},
   "outputs": [],
   "source": [
    "res = milvus_client.get_load_state(\n",
    "    collection_name=collection_name\n",
    ")"
   ]
  },
  {
   "cell_type": "code",
   "execution_count": 25,
   "metadata": {},
   "outputs": [
    {
     "data": {
      "text/plain": [
       "{'state': <LoadState: NotLoad>}"
      ]
     },
     "execution_count": 25,
     "metadata": {},
     "output_type": "execute_result"
    }
   ],
   "source": [
    "res"
   ]
  },
  {
   "cell_type": "code",
   "execution_count": 26,
   "metadata": {},
   "outputs": [],
   "source": [
    "milvus_client.load_collection(\n",
    "    collection_name=collection_name,\n",
    "    replica_number=1 # Number of replicas to create on query nodes. Max value is 1 for Milvus Standalone, and no greater than `queryNode.replicas` for Milvus Cluster.\n",
    ")"
   ]
  },
  {
   "cell_type": "code",
   "execution_count": 28,
   "metadata": {},
   "outputs": [],
   "source": [
    "# building retrieval\n",
    "\n",
    "question = \"what is the IFRS standard for new companies looking to audit their records?\"\n",
    "\n",
    "search_res = milvus_client.search(\n",
    "    collection_name=collection_name,\n",
    "    data=[\n",
    "        emb_text(question)\n",
    "    ],  # Use the `emb_text` function to convert the question to an embedding vector\n",
    "    limit=3,  # Return top 3 results\n",
    "    search_params={\"metric_type\": \"COSINE\", \"params\": {}},  # Inner product distance\n",
    "    output_fields=[\"text\"],  # Return the text field\n",
    ")\n"
   ]
  },
  {
   "cell_type": "code",
   "execution_count": 38,
   "metadata": {},
   "outputs": [],
   "source": [
    "def get_context(question):\n",
    "\n",
    "    search_res = milvus_client.search(\n",
    "    collection_name=collection_name,\n",
    "    data=[\n",
    "        emb_text(question)\n",
    "    ],  # Use the `emb_text` function to convert the question to an embedding vector\n",
    "    limit=1,  # Return top 3 results\n",
    "    search_params={\"metric_type\": \"COSINE\", \"params\": {}},  # Inner product distance\n",
    "    output_fields=[\"text\"],  # Return the text field\n",
    "                                    )\n",
    "    \n",
    "    retrieved_lines_with_distances = [\n",
    "    (res[\"entity\"][\"text\"], res[\"distance\"]) for res in search_res[0]\n",
    "                                    ]\n",
    "\n",
    "    context = \"\\n\".join(\n",
    "    [line_with_distance[0] for line_with_distance in retrieved_lines_with_distances]\n",
    "                        )\n",
    "    \n",
    "    return context\n",
    "\n"
   ]
  },
  {
   "cell_type": "code",
   "execution_count": 29,
   "metadata": {},
   "outputs": [
    {
     "name": "stdout",
     "output_type": "stream",
     "text": [
      "[\n",
      "    [\n",
      "        \"Standards\\nObjective\\nThe objective of this IFRS is to ensure that an entity\\u2019s first IFRS financial\\nstatements , and its interim financial reports for part of the period covered by\\nthose financial statements, contain high quality information that:\\n(a) is transparent for users and comparable over all periods presented;\\n(b) provides a suitable starting point for accounting in accordance\\nwith International Financial Reporting Standards (IFRSs) ; and\\n(c) can be generated at a cost that does not exceed the benefits.\\nScope\\nAn entity shall apply this IFRS in:\\n(a) its first IFRS financial statements; and\\n(b) each interim financial report, if any, that it presents in accordance\\nwith IAS 34 Interim Financial Reporting  for part of the period covered by\\nits first IFRS financial statements.\\nAn entity\\u2019s first IFRS financial statements are the first annual financial\\nstatements in which the entity adopts IFRSs , by an explicit and unreserved\\nstatement in those financial statements of compliance with IFRSs. Financial\\nstatements in accordance with IFRSs are an entity\\u2019s first IFRS financial\\nstatements if, for example, the entity:\\n(a) presented its most recent previous financial statements:\\n(i) in accordance with national requirements that are not\\nconsistent with IFRSs in all respects;\\n(ii) in conformity with IFRSs in all respects, except that the\\nfinancial statements did not contain an explicit and unreserved\\nstatement that they complied with IFRSs;\\n(iii) containing an explicit statement of compliance with some, but\\nnot all, IFRSs;\\n(iv) in accordance with national requirements inconsistent with\\nIFRSs, using some individual IFRSs to account for items for\\nwhich national requirements did not exist; or\\n(v) in accordance with national requirements, with a reconciliation\\nof some amounts to the amounts determined in accordance\\nwith IFRSs;1\\n2\\n3IFRS 1\\nA102 \\u00a9 IFRS Foundation(b) prepared financial statements in accordance with IFRSs for internal\\nuse only, without making them available to the entity\\u2019s owners or any\\nother external users;\\n(c) prepared a reporting package in accordance with IFRSs for\\nconsolidation purposes without preparing a complete set of financial\\nstatements as defined in IAS 1  Presentation of Financial Statements  (as\\nrevised in 2007); or\\n(d) did not present financial statements for previous periods.\\nThis IFRS applies when an entity first adopts IFRSs . It does not apply when, for\\nexample, an entity: \\n(a) stops presenting financial statements in accordance with national\\nrequirements, having previously presented them as well as another set\\nof financial statements that contained an explicit and unreserved\\nstatement of compliance with IFRSs;\\n(b) presented financial statements in the previous year in accordance with\\nnational requirements and those financial statements contained an\\nexplicit and unreserved statement of compliance with IFRSs; or\\n(c) presented financial statements in the previous year that contained an\\nexplicit and unreserved statement of compliance with IFRSs, even if\\nthe auditors qualified their audit report on those financial statements.\\nNotwithstanding the requirements in paragraphs 2 and 3, an entity that has\\napplied IFRSs in a previous reporting period, but whose most recent previous\\nannual financial statements did not contain an explicit and unreserved\\nstatement of compliance with IFRSs, must either apply this IFRS or else apply\\nIFRSs retrospectively in accordance with IAS 8  Accounting Policies, Changes in\\nAccounting Estimates and Errors  as if the entity had never stopped applying IFRSs.\\nWhen an entity does not elect to apply this IFRS in accordance with\\nparagraph 4A, the entity shall nevertheless apply the disclosure requirements\\nin paragraphs 23A\\u201323B of IFRS 1 , in addition to the disclosure requirements in\\nIAS 8.\\nThis IFRS does not apply to changes in accounting policies made by an entity\\nthat already applies IFRSs. Such changes are the subject of: \\n(a) requirements on changes in accounting policies in IAS 8 Accounting\\nPolicies, Changes in Accounting Estimates and Errors ; and\\n(b) specific transitional requirements in other IFRSs.\\nRecognition and measurement\\nOpening IFRS statement of financial  position\\nAn entity shall prepare and present an opening IFRS statement of financial  position\\nat the date of transition to IFRSs . This is the starting point for its accounting in\\naccordance with IFRSs.4\\n4A\\n4B\\n5\\n6IFRS 1\\n\\u00a9 IFRS Foundation A103Accounting policies\\nAn entity shall use the same accounting policies in its opening IFRS\\nstatement of financial  position and throughout all periods presented in\\nits first IFRS financial  statements. Those accounting policies shall comply\\nwith each IFRS effective at the end of its first IFRS reporting period , except as\\nspecified  in paragraphs 13\\u201319 and Appendices B\\u2013E.\\nAn entity shall not apply different versions of IFRSs that were effective at\\nearlier dates. An entity may apply a new IFRS that is not yet mandatory if that\\nIFRS permits early application.\\nExample: Consistent application of latest version of IFRSs\\nBackground\\nThe end of entity A\\u2019s first IFRS reporting period is 31 December 20X5.\\nEntity A decides to present comparative information in those financial\\nstatements for one year only (see paragraph 21). Therefore, its date of\\ntransition to IFRSs is the beginning of business on 1 January 20X4 (or,\\nequivalently, close of business on 31 December 20X3). Entity A presented\\nfinancial statements in accordance with its previous GAAP  annually to\\n31 December each year up to, and including, 31 December 20X4.\\nApplication of requirements\\nEntity A is required to apply the IFRSs effective for periods ending on\\n31 December 20X5 in:\\n(a) preparing and presenting its opening IFRS statement of financial\\nposition at 1 January 20X4; and\\n(b) preparing and presenting its statement of financial position for\\n31 December 20X5 (including comparative amounts for 20X4),\\nstatement of comprehensive income, statement of changes in equity\",\n",
      "        0.5432218313217163\n",
      "    ],\n",
      "    [\n",
      "        \"is fair value; and\\n(c) the aggregate adjustment to the carrying amounts reported under\\nprevious GAAP.\\nUse of deemed cost for oil and gas assets\\nIf an entity uses the exemption in paragraph D8A(b)  for oil and gas assets, it\\nshall disclose that fact and the basis on which carrying amounts determined\\nunder previous GAAP were allocated.\\nUse of deemed cost for operations subject to rate regulation\\nIf an entity uses the exemption in paragraph D8B for operations subject to\\nrate regulation, it shall disclose that fact and the basis on which carrying\\namounts were determined under previous GAAP.\\nUse of deemed cost after severe hyperinflation\\nIf an entity elects to measure assets and liabilities at fair value and to use\\nthat fair value as the deemed cost in its opening IFRS statement of financial\\nposition  because of severe hyperinflation (see paragraphs D26 \\u2013D30 ), the\\nentity\\u2019s first IFRS financial statements shall disclose an explanation of how,\\nand why, the entity had, and then ceased to have, a functional currency that\\nhas both of the following characteristics:\\n(a) a reliable general price index is not available to all entities with\\ntransactions and balances in the currency.\\n(b) exchangeability between the currency and a relatively stable foreign\\ncurrency does not exist.\\nInterim financial  reports\\nTo comply with paragraph 23 , if an entity presents an interim financial report\\nin accordance with IAS 34 for part of the period covered by its first IFRS\\nfinancial statements, the entity shall satisfy the following requirements in\\naddition to the requirements of IAS 34: \\n(a) Each such interim financial report shall, if the entity presented an\\ninterim financial report for the comparable interim period of the\\nimmediately preceding financial year, include:\\n(i) a reconciliation of its equity in accordance with previous\\nGAAP  at the end of that comparable interim period to its equity\\nunder IFRSs at that date; and\\n(ii) a reconciliation to its total comprehensive income in\\naccordance with IFRSs for that comparable interim period\\n(current and year to date). The starting point for that\\nreconciliation shall be total comprehensive income in\\naccordance with previous GAAP for that period or, if an entity\\ndid not report such a total, profit or loss in accordance with\\nprevious GAAP.31A\\n31B\\n31C\\n32IFRS 1\\n\\u00a9 IFRS Foundation A109(b) In addition to the reconciliations required by (a), an entity\\u2019s first\\ninterim financial report in accordance with IAS 34 for part of the\\nperiod covered by its first IFRS financial statements shall include the\\nreconciliations described in paragraph 24(a) and (b) (supplemented by\\nthe details required by paragraphs 25 and 26) or a cross -reference to\\nanother published document that includes these reconciliations.\\n(c) If an entity changes its accounting policies or its use of the exemptions\\ncontained in this IFRS, it shall explain the changes in each such\\ninterim financial report in accordance with paragraph 23 and update\\nthe reconciliations required by (a) and (b).\\nIAS 34 requires minimum disclosures, which are based on the assumption\\nthat users of the interim financial report also have access to the most recent\\nannual financial statements. However, IAS 34 also requires an entity to\\ndisclose \\u2018any events or transactions that are material to an understanding of\\nthe current interim period\\u2019. Therefore, if a first- time adopter did not, in its\\nmost recent annual financial statements in accordance with previous GAAP ,\\ndisclose information material to an understanding of the current interim\\nperiod, its interim financial report shall disclose that information or include a\\ncross-reference to another published document that includes it.\\nEffective date\\nAn entity shall apply this IFRS if its first IFRS financial statements are for a\\nperiod beginning on or after 1 July 2009. Earlier application is permitted.\\nAn entity shall apply the amendments in paragraphs D1(n) and D23 for annual\\nperiods beginning on or after 1 July 2009. If an entity applies IAS 23 Borrowing\\nCosts  (as revised in 2007) for an earlier period, those amendments shall be\\napplied for that earlier period.\\nIFRS 3  Business Combinations  (as revised in 2008) amended paragraphs 19 , C1\\nand C4(f) and (g) . If an entity applies IFRS 3 (revised 2008) for an earlier period,\\nthe amendments shall also be applied for that earlier period.\\nIAS 27  Consolidated and Separate Financial Statements  (as amended in 2008)\\namended paragraphs B1 and B7 . If an entity applies IAS 27 (amended 2008) for\\nan earlier period, the amendments shall be applied for that earlier period.\\nCost of an Investment in a Subsidiary, Jointly Controlled Entity or Associate\\n(Amendments to IFRS 1 and IAS 27), issued in May 2008, added paragraphs 31,\\nD1(g), D14 and D15. An entity shall apply those paragraphs for annual periods\\nbeginning on or after 1 July 2009. Earlier application is permitted. If an entity\\napplies the paragraphs for an earlier period, it shall disclose that fact.\\nParagraph B7 was amended by Improvements to IFRSs  issued in May 2008. An\\nentity shall apply those amendments for annual periods beginning on or after\\n1 July 2009. If an entity applies IAS 27 (amended 2008) for an earlier period,\\nthe amendments shall be applied for that earlier period.33\\n34\\n35\\n36\\n37\\n38\\n39IFRS 1\\nA110 \\u00a9 IFRS FoundationAdditional Exemptions for First -time Adopters  (Amendments to IFRS 1), issued in\\nJuly 2009, added paragraphs 31A, D8A, D9A and D21A  and amended\\nparagraph D1(c), (d) and (l). An entity shall apply those amendments for\\nannual periods beginning on or after 1 January 2010. Earlier application is\\npermitted. If an entity applies the amendments for an earlier period it shall\\ndisclose that fact.\\n[Deleted]\\nIFRIC 19  Extinguishing Financial Liabilities with Equity Instruments  added\\nparagraph D25. An entity shall apply that amendment when it applies\\nIFRIC 19.\\n[Deleted]\\nImprovements to IFRSs  issued in May 2010 added paragraphs 27A, 31B and D8B\",\n",
      "        0.5176217555999756\n",
      "    ],\n",
      "    [\n",
      "        \"(a) preparing and presenting its opening IFRS statement of financial\\nposition at 1 January 20X4; and\\n(b) preparing and presenting its statement of financial position for\\n31 December 20X5 (including comparative amounts for 20X4),\\nstatement of comprehensive income, statement of changes in equity\\nand statement of cash flows for the year to 31 December 20X5\\n(including comparative amounts for 20X4) and disclosures (including\\ncomparative information for 20X4).\\nIf a new IFRS is not yet mandatory but permits early application, entity A is\\npermitted, but not required, to apply that IFRS in its first IFRS financial\\nstatements.\\nThe transitional provisions in other IFRSs  apply to changes in accounting\\npolicies made by an entity that already uses IFRSs; they do not apply to\\na first-time adopter \\u2019s transition to IFRSs, except as specified in Appendices B\\u2013E.\\nExcept as described in paragraphs 13 \\u201319 and Appendices B \\u2013E, an entity shall,\\nin its opening IFRS statement of financial position: \\n(a) recognise all assets and liabilities whose recognition is required\\nby IFRSs;\\n(b) not recognise items as assets or liabilities if IFRSs do not permit such\\nrecognition;7\\n8\\n9\\n10IFRS 1\\nA104 \\u00a9 IFRS Foundation(c) reclassify items that it recognised in accordance with previous GAAP as\\none type of asset, liability or component of equity, but are a different\\ntype of asset, liability or component of equity in accordance with\\nIFRSs; and\\n(d) apply IFRSs in measuring all recognised assets and liabilities.\\nThe accounting policies that an entity uses in its opening IFRS statement of\\nfinancial position may differ from those that it used for the same date using\\nits previous GAAP. The resulting adjustments arise from events and\\ntransactions before the date of transition to IFRSs. Therefore, an entity shall\\nrecognise those adjustments directly in retained earnings (or, if appropriate,\\nanother category of equity) at the date of transition to IFRSs.\\nThis IFRS establishes two categories of exceptions to the principle that an\\nentity\\u2019s opening IFRS statement of financial position shall comply with each\\nIFRS: \\n(a) paragraphs 14\\u201317  and Appendix B  prohibit retrospective application of\\nsome aspects of other IFRSs.\\n(b) Appendices C \\u2013E grant exemptions from some requirements of other\\nIFRSs.\\nExceptions to the retrospective application of other IFRSs\\nThis IFRS prohibits retrospective application of some aspects of other IFRSs.\\nThese exceptions are set out in paragraphs 14\\u201317 and Appendix B.\\nEstimates\\nAn entity\\u2019s estimates in accordance with IFRSs  at the date of transition to\\nIFRSs  shall be consistent with estimates made for the same date in\\naccordance with previous GAAP  (after adjustments to reflect  any difference\\nin accounting policies), unless there is objective evidence that those\\nestimates were in error.\\nAn entity may receive information after the date of transition to IFRSs about\\nestimates that it had made under previous GAAP . In accordance\\nwith paragraph 14, an entity shall treat the receipt of that information in the\\nsame way as non -adjusting events after the reporting period in accordance\\nwith IAS 10 Events after the Reporting Period . For example, assume that an\\nentity\\u2019s date of transition to IFRSs is 1 January 20X4 and new information on\\n15 July 20X4 requires the revision of an estimate made in accordance with\\nprevious GAAP at 31 December 20X3. The entity shall not reflect that new\\ninformation in its opening IFRS statement of financial position (unless the\\nestimates need adjustment for any differences in accounting policies or there\\nis objective evidence that the estimates were in error). Instead, the entity shall\\nreflect that new information in profit or loss (or, if appropriate, other\\ncomprehensive income) for the year ended 31 December 20X4.11\\n12\\n13\\n14\\n15IFRS 1\\n\\u00a9 IFRS Foundation A105An entity may need to make estimates in accordance with IFRSs  at the date of\\ntransition to IFRSs that were not required at that date under previous GAAP .\\nTo achieve consistency with IAS 10, those estimates in accordance with IFRSs\\nshall reflect conditions that existed at the date of transition to IFRSs. In\\nparticular, estimates at the date of transition to IFRSs of market prices,\\ninterest rates or foreign exchange rates shall reflect market conditions at that\\ndate.\\nParagraphs 14 \\u201316 apply to the opening IFRS statement of financial position .\\nThey also apply to a comparative period presented in an entity\\u2019s first IFRS\\nfinancial statements, in which case the references to the date of transition to\\nIFRSs are replaced by references to the end of that comparative period.\\nExemptions from other IFRSs\\nAn entity may elect to use one or more of the exemptions contained\\nin Appendices C \\u2013E. An entity shall not apply these exemptions by analogy to\\nother items.\\n[Deleted]\\nPresentation and disclosure\\nThis IFRS does not provide exemptions from the presentation and disclosure\\nrequirements in other IFRSs.\\nComparative information\\nAn entity\\u2019s first IFRS financial statements shall include at least three\\nstatements of financial position, two statements of profit or loss and other\\ncomprehensive income, two separate statements of profit or loss (if presented),\\ntwo statements of cash flows and two statements of changes in equity and\\nrelated notes, including comparative information for all statements presented.\\nNon-IFRS comparative information and historical summaries\\nSome entities present historical summaries of selected data for periods before\\nthe first period for which they present full comparative information in\\naccordance with IFRSs . This IFRS does not require such summaries to comply\\nwith the recognition and measurement requirements of IFRSs. Furthermore,\\nsome entities present comparative information in accordance with previous\\nGAAP  as well as the comparative information required by IAS 1. In any\\nfinancial statements containing historical summaries or comparative\\ninformation in accordance with previous GAAP, an entity shall:\",\n",
      "        0.5102221965789795\n",
      "    ]\n",
      "]\n"
     ]
    }
   ],
   "source": [
    "import json\n",
    "\n",
    "retrieved_lines_with_distances = [\n",
    "    (res[\"entity\"][\"text\"], res[\"distance\"]) for res in search_res[0]\n",
    "]\n",
    "print(json.dumps(retrieved_lines_with_distances, indent=4))\n"
   ]
  },
  {
   "cell_type": "code",
   "execution_count": 30,
   "metadata": {},
   "outputs": [],
   "source": [
    "context = \"\\n\".join(\n",
    "    [line_with_distance[0] for line_with_distance in retrieved_lines_with_distances]\n",
    ")\n"
   ]
  },
  {
   "cell_type": "code",
   "execution_count": 35,
   "metadata": {},
   "outputs": [],
   "source": [
    "def get_response_GPT(context, question):\n",
    "\n",
    "    SYSTEM_PROMPT = \"\"\"\n",
    "    Human: You are an AI assistant. You are able to find answers to the questions from the contextual passage snippets provided.\n",
    "    \"\"\"\n",
    "    USER_PROMPT = f\"\"\"\n",
    "    Use the following pieces of information enclosed in <context> tags to provide an answer to the question enclosed in <question> tags.\n",
    "    <context>\n",
    "    {context}\n",
    "    </context>\n",
    "    <question>\n",
    "    {question}\n",
    "    </question>\n",
    "    \"\"\"\n",
    "    response = client.chat.completions.create(\n",
    "    model=\"gpt-3.5-turbo\",\n",
    "    messages=[\n",
    "        {\"role\": \"system\", \"content\": SYSTEM_PROMPT},\n",
    "        {\"role\": \"user\", \"content\": USER_PROMPT},\n",
    "    ],\n",
    "    )\n",
    "\n",
    "    return response.choices[0].message.content\n",
    "\n",
    "    \n",
    "\n"
   ]
  },
  {
   "cell_type": "code",
   "execution_count": 31,
   "metadata": {},
   "outputs": [],
   "source": [
    "SYSTEM_PROMPT = \"\"\"\n",
    "Human: You are an AI assistant. You are able to find answers to the questions from the contextual passage snippets provided.\n",
    "\"\"\"\n",
    "USER_PROMPT = f\"\"\"\n",
    "Use the following pieces of information enclosed in <context> tags to provide an answer to the question enclosed in <question> tags.\n",
    "<context>\n",
    "{context}\n",
    "</context>\n",
    "<question>\n",
    "{question}\n",
    "</question>\n",
    "\"\"\"\n"
   ]
  },
  {
   "cell_type": "code",
   "execution_count": 32,
   "metadata": {},
   "outputs": [],
   "source": [
    "response = client.chat.completions.create(\n",
    "    model=\"gpt-3.5-turbo\",\n",
    "    messages=[\n",
    "        {\"role\": \"system\", \"content\": SYSTEM_PROMPT},\n",
    "        {\"role\": \"user\", \"content\": USER_PROMPT},\n",
    "    ],\n",
    ")\n"
   ]
  },
  {
   "cell_type": "code",
   "execution_count": 33,
   "metadata": {},
   "outputs": [
    {
     "name": "stdout",
     "output_type": "stream",
     "text": [
      "The IFRS standard for new companies looking to audit their records is IFRS 1 - First-time Adoption of International Financial Reporting Standards. This standard sets out the requirements for entities to follow when preparing their first IFRS financial statements and interim financial reports in accordance with International Financial Reporting Standards. It aims to ensure that the financial information provided is transparent, comparable, and generated at a cost that does not exceed the benefits.\n"
     ]
    }
   ],
   "source": [
    "print(response.choices[0].message.content)\n"
   ]
  },
  {
   "cell_type": "code",
   "execution_count": 40,
   "metadata": {},
   "outputs": [],
   "source": [
    "question = \"when should an entity apply IFRS\"\n",
    "context = get_context(question)"
   ]
  },
  {
   "cell_type": "code",
   "execution_count": 42,
   "metadata": {},
   "outputs": [],
   "source": [
    "answer = get_response_GPT(question=question, context=context)"
   ]
  },
  {
   "cell_type": "markdown",
   "metadata": {},
   "source": [
    "An entity should apply IFRS when it first adopts IFRS. This is specified in the International Financial Reporting Standard (IFRS) 1, which outlines the requirements for applying IFRS in an entity's first financial statements and interim financial reports during the transition to IFRS."
   ]
  },
  {
   "cell_type": "code",
   "execution_count": null,
   "metadata": {},
   "outputs": [],
   "source": []
  },
  {
   "cell_type": "code",
   "execution_count": null,
   "metadata": {},
   "outputs": [],
   "source": []
  }
 ],
 "metadata": {
  "kernelspec": {
   "display_name": "Python 3",
   "language": "python",
   "name": "python3"
  },
  "language_info": {
   "codemirror_mode": {
    "name": "ipython",
    "version": 3
   },
   "file_extension": ".py",
   "mimetype": "text/x-python",
   "name": "python",
   "nbconvert_exporter": "python",
   "pygments_lexer": "ipython3",
   "version": "3.8.20"
  }
 },
 "nbformat": 4,
 "nbformat_minor": 2
}
